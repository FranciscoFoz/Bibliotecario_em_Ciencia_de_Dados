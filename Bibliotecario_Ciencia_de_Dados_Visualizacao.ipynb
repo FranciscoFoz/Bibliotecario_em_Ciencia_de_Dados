{
  "nbformat": 4,
  "nbformat_minor": 0,
  "metadata": {
    "colab": {
      "name": "Bibliotecario_Ciencia_de_Dados_Visualizacao.ipynb",
      "provenance": [],
      "authorship_tag": "ABX9TyN2h6BfXBdmBjFuux4t+k+z",
      "include_colab_link": true
    },
    "kernelspec": {
      "name": "python3",
      "display_name": "Python 3"
    },
    "language_info": {
      "name": "python"
    }
  },
  "cells": [
    {
      "cell_type": "markdown",
      "metadata": {
        "id": "view-in-github",
        "colab_type": "text"
      },
      "source": [
        "<a href=\"https://colab.research.google.com/github/FranciscoFoz/Bibliotecario_em_Ciencia_de_Dados/blob/main/Bibliotecario_Ciencia_de_Dados_Visualizacao.ipynb\" target=\"_parent\"><img src=\"https://colab.research.google.com/assets/colab-badge.svg\" alt=\"Open In Colab\"/></a>"
      ]
    },
    {
      "cell_type": "markdown",
      "metadata": {
        "id": "qgTiBBzkehZM"
      },
      "source": [
        "Autor: [Francisco Foz](https://www.linkedin.com/in/francisco-tadeu-foz/)"
      ]
    },
    {
      "cell_type": "markdown",
      "metadata": {
        "id": "F0Svu0z5AEfe"
      },
      "source": [
        "# <font color = lightblue> Visualizando Dados\n"
      ]
    },
    {
      "cell_type": "markdown",
      "metadata": {
        "id": "Lwf1PpUTAZxe"
      },
      "source": [
        "Este notebook segue fazendo parte do projeto iniciado por mim, Francisco Foz, integrante do time Alura Stars. Com o objetivo de auxiliar na disseminação da informação em Ciência de Dados para a área da Biblioteconomia. Utilizando do livro \"Data Science do zero\" de Joel Grus. Abordarei alguns conceitos básicos de visualização de dados."
      ]
    },
    {
      "cell_type": "markdown",
      "metadata": {
        "id": "UOMfW3WPGenV"
      },
      "source": [
        "## Conjunto de dados\n",
        "Para esse projeto utilizarei o conjunto de dados da Biblioteca da Universidade Federal do Rio Grande do Norte - UFRN, do 1º semestre de 2019, localizado no [Portal Brasileiro de Dados Abertos.](https://dados.gov.br/dataset/emprestimos-acervos-das-bibliotecas)\n",
        "\n"
      ]
    },
    {
      "cell_type": "code",
      "metadata": {
        "id": "sUwXgHkDG_uF"
      },
      "source": [
        "#Importando o pandas\n",
        "import pandas as pd\n"
      ],
      "execution_count": null,
      "outputs": []
    },
    {
      "cell_type": "code",
      "metadata": {
        "id": "wcVjWAa0Lhub",
        "colab": {
          "base_uri": "https://localhost:8080/",
          "height": 445
        },
        "outputId": "b0b75a23-2d66-4880-9392-99e4b35f03e2"
      },
      "source": [
        "#Lendo o arquivo csv\n",
        "emprestimos = pd.read_csv('emprestimos-20191.csv', sep= ';')\n",
        "emprestimos.head()"
      ],
      "execution_count": null,
      "outputs": [
        {
          "output_type": "execute_result",
          "data": {
            "text/html": [
              "<div>\n",
              "<style scoped>\n",
              "    .dataframe tbody tr th:only-of-type {\n",
              "        vertical-align: middle;\n",
              "    }\n",
              "\n",
              "    .dataframe tbody tr th {\n",
              "        vertical-align: top;\n",
              "    }\n",
              "\n",
              "    .dataframe thead th {\n",
              "        text-align: right;\n",
              "    }\n",
              "</style>\n",
              "<table border=\"1\" class=\"dataframe\">\n",
              "  <thead>\n",
              "    <tr style=\"text-align: right;\">\n",
              "      <th></th>\n",
              "      <th>id_emprestimo</th>\n",
              "      <th>codigo_barras</th>\n",
              "      <th>data_renovacao</th>\n",
              "      <th>data_emprestimo</th>\n",
              "      <th>data_devolucao</th>\n",
              "      <th>matricula_ou_siape</th>\n",
              "      <th>nome_usuario</th>\n",
              "      <th>tipo_vinculo_usuario</th>\n",
              "    </tr>\n",
              "  </thead>\n",
              "  <tbody>\n",
              "    <tr>\n",
              "      <th>0</th>\n",
              "      <td>2782809</td>\n",
              "      <td>L169931</td>\n",
              "      <td>NaN</td>\n",
              "      <td>2019/01/02 08:09:52.211000000</td>\n",
              "      <td>2019/01/25 11:40:31.000000000</td>\n",
              "      <td>2.019101e+10</td>\n",
              "      <td>RAIMUNDO VICENTE PEREIRA NETO</td>\n",
              "      <td>ALUNO DE PÓS-GRADUAÇÃO</td>\n",
              "    </tr>\n",
              "    <tr>\n",
              "      <th>1</th>\n",
              "      <td>2782810</td>\n",
              "      <td>L099542</td>\n",
              "      <td>NaN</td>\n",
              "      <td>2019/01/02 08:09:52.286000000</td>\n",
              "      <td>2019/01/03 18:29:29.000000000</td>\n",
              "      <td>2.019101e+10</td>\n",
              "      <td>RAIMUNDO VICENTE PEREIRA NETO</td>\n",
              "      <td>ALUNO DE PÓS-GRADUAÇÃO</td>\n",
              "    </tr>\n",
              "    <tr>\n",
              "      <th>2</th>\n",
              "      <td>2782811</td>\n",
              "      <td>L199924</td>\n",
              "      <td>NaN</td>\n",
              "      <td>2019/01/02 08:09:52.321000000</td>\n",
              "      <td>2019/01/25 11:40:25.000000000</td>\n",
              "      <td>2.019101e+10</td>\n",
              "      <td>RAIMUNDO VICENTE PEREIRA NETO</td>\n",
              "      <td>ALUNO DE PÓS-GRADUAÇÃO</td>\n",
              "    </tr>\n",
              "    <tr>\n",
              "      <th>3</th>\n",
              "      <td>2782812</td>\n",
              "      <td>2010081229</td>\n",
              "      <td>2019/01/17 06:20:06.044000000</td>\n",
              "      <td>2019/01/02 08:30:25.722000000</td>\n",
              "      <td>2019/01/28 08:22:55.000000000</td>\n",
              "      <td>2.018014e+10</td>\n",
              "      <td>DAVID DANIEL LIMA DE SOUZA</td>\n",
              "      <td>ALUNO DE GRADUAÇÃO</td>\n",
              "    </tr>\n",
              "    <tr>\n",
              "      <th>4</th>\n",
              "      <td>2782813</td>\n",
              "      <td>2018022572</td>\n",
              "      <td>2019/01/17 06:20:06.019000000</td>\n",
              "      <td>2019/01/02 08:30:25.758000000</td>\n",
              "      <td>2019/01/28 08:22:42.000000000</td>\n",
              "      <td>2.018014e+10</td>\n",
              "      <td>DAVID DANIEL LIMA DE SOUZA</td>\n",
              "      <td>ALUNO DE GRADUAÇÃO</td>\n",
              "    </tr>\n",
              "  </tbody>\n",
              "</table>\n",
              "</div>"
            ],
            "text/plain": [
              "   id_emprestimo  ...    tipo_vinculo_usuario\n",
              "0        2782809  ...  ALUNO DE PÓS-GRADUAÇÃO\n",
              "1        2782810  ...  ALUNO DE PÓS-GRADUAÇÃO\n",
              "2        2782811  ...  ALUNO DE PÓS-GRADUAÇÃO\n",
              "3        2782812  ...      ALUNO DE GRADUAÇÃO\n",
              "4        2782813  ...      ALUNO DE GRADUAÇÃO\n",
              "\n",
              "[5 rows x 8 columns]"
            ]
          },
          "metadata": {},
          "execution_count": 3
        }
      ]
    },
    {
      "cell_type": "code",
      "metadata": {
        "id": "iCb8KAIGS8h-",
        "colab": {
          "base_uri": "https://localhost:8080/",
          "height": 289
        },
        "outputId": "5eacbf2d-46c1-44ef-dfe0-1898fe5d53e2"
      },
      "source": [
        "#Excluindo coluna de nome usuario\n",
        "emprestimos.pop('nome_usuario')\n",
        "emprestimos.head()"
      ],
      "execution_count": null,
      "outputs": [
        {
          "output_type": "execute_result",
          "data": {
            "text/html": [
              "<div>\n",
              "<style scoped>\n",
              "    .dataframe tbody tr th:only-of-type {\n",
              "        vertical-align: middle;\n",
              "    }\n",
              "\n",
              "    .dataframe tbody tr th {\n",
              "        vertical-align: top;\n",
              "    }\n",
              "\n",
              "    .dataframe thead th {\n",
              "        text-align: right;\n",
              "    }\n",
              "</style>\n",
              "<table border=\"1\" class=\"dataframe\">\n",
              "  <thead>\n",
              "    <tr style=\"text-align: right;\">\n",
              "      <th></th>\n",
              "      <th>id_emprestimo</th>\n",
              "      <th>codigo_barras</th>\n",
              "      <th>data_renovacao</th>\n",
              "      <th>data_emprestimo</th>\n",
              "      <th>data_devolucao</th>\n",
              "      <th>matricula_ou_siape</th>\n",
              "      <th>tipo_vinculo_usuario</th>\n",
              "    </tr>\n",
              "  </thead>\n",
              "  <tbody>\n",
              "    <tr>\n",
              "      <th>0</th>\n",
              "      <td>2782809</td>\n",
              "      <td>L169931</td>\n",
              "      <td>NaN</td>\n",
              "      <td>2019/01/02 08:09:52.211000000</td>\n",
              "      <td>2019/01/25 11:40:31.000000000</td>\n",
              "      <td>2.019101e+10</td>\n",
              "      <td>ALUNO DE PÓS-GRADUAÇÃO</td>\n",
              "    </tr>\n",
              "    <tr>\n",
              "      <th>1</th>\n",
              "      <td>2782810</td>\n",
              "      <td>L099542</td>\n",
              "      <td>NaN</td>\n",
              "      <td>2019/01/02 08:09:52.286000000</td>\n",
              "      <td>2019/01/03 18:29:29.000000000</td>\n",
              "      <td>2.019101e+10</td>\n",
              "      <td>ALUNO DE PÓS-GRADUAÇÃO</td>\n",
              "    </tr>\n",
              "    <tr>\n",
              "      <th>2</th>\n",
              "      <td>2782811</td>\n",
              "      <td>L199924</td>\n",
              "      <td>NaN</td>\n",
              "      <td>2019/01/02 08:09:52.321000000</td>\n",
              "      <td>2019/01/25 11:40:25.000000000</td>\n",
              "      <td>2.019101e+10</td>\n",
              "      <td>ALUNO DE PÓS-GRADUAÇÃO</td>\n",
              "    </tr>\n",
              "    <tr>\n",
              "      <th>3</th>\n",
              "      <td>2782812</td>\n",
              "      <td>2010081229</td>\n",
              "      <td>2019/01/17 06:20:06.044000000</td>\n",
              "      <td>2019/01/02 08:30:25.722000000</td>\n",
              "      <td>2019/01/28 08:22:55.000000000</td>\n",
              "      <td>2.018014e+10</td>\n",
              "      <td>ALUNO DE GRADUAÇÃO</td>\n",
              "    </tr>\n",
              "    <tr>\n",
              "      <th>4</th>\n",
              "      <td>2782813</td>\n",
              "      <td>2018022572</td>\n",
              "      <td>2019/01/17 06:20:06.019000000</td>\n",
              "      <td>2019/01/02 08:30:25.758000000</td>\n",
              "      <td>2019/01/28 08:22:42.000000000</td>\n",
              "      <td>2.018014e+10</td>\n",
              "      <td>ALUNO DE GRADUAÇÃO</td>\n",
              "    </tr>\n",
              "  </tbody>\n",
              "</table>\n",
              "</div>"
            ],
            "text/plain": [
              "   id_emprestimo codigo_barras  ... matricula_ou_siape    tipo_vinculo_usuario\n",
              "0        2782809       L169931  ...       2.019101e+10  ALUNO DE PÓS-GRADUAÇÃO\n",
              "1        2782810       L099542  ...       2.019101e+10  ALUNO DE PÓS-GRADUAÇÃO\n",
              "2        2782811       L199924  ...       2.019101e+10  ALUNO DE PÓS-GRADUAÇÃO\n",
              "3        2782812    2010081229  ...       2.018014e+10      ALUNO DE GRADUAÇÃO\n",
              "4        2782813    2018022572  ...       2.018014e+10      ALUNO DE GRADUAÇÃO\n",
              "\n",
              "[5 rows x 7 columns]"
            ]
          },
          "metadata": {},
          "execution_count": 4
        }
      ]
    },
    {
      "cell_type": "code",
      "metadata": {
        "id": "SezqGBAmZIXC",
        "colab": {
          "base_uri": "https://localhost:8080/",
          "height": 323
        },
        "outputId": "20b29ad8-d8eb-421b-b3ef-2d15dcfb618f"
      },
      "source": [
        "#Modificando o tipo de dado da matricula para inteiro\n",
        "emprestimos.matricula_ou_siape = emprestimos.matricula_ou_siape.astype('int64') #O código gerará um erro, pois há valores NA"
      ],
      "execution_count": null,
      "outputs": [
        {
          "output_type": "error",
          "ename": "ValueError",
          "evalue": "ignored",
          "traceback": [
            "\u001b[0;31m---------------------------------------------------------------------------\u001b[0m",
            "\u001b[0;31mValueError\u001b[0m                                Traceback (most recent call last)",
            "\u001b[0;32m<ipython-input-9-e2a4717347ad>\u001b[0m in \u001b[0;36m<module>\u001b[0;34m()\u001b[0m\n\u001b[1;32m      1\u001b[0m \u001b[0;31m#Modificando o tipo de dado da matricula para inteiro\u001b[0m\u001b[0;34m\u001b[0m\u001b[0;34m\u001b[0m\u001b[0;34m\u001b[0m\u001b[0m\n\u001b[0;32m----> 2\u001b[0;31m \u001b[0memprestimos\u001b[0m\u001b[0;34m.\u001b[0m\u001b[0mmatricula_ou_siape\u001b[0m \u001b[0;34m=\u001b[0m \u001b[0memprestimos\u001b[0m\u001b[0;34m.\u001b[0m\u001b[0mmatricula_ou_siape\u001b[0m\u001b[0;34m.\u001b[0m\u001b[0mastype\u001b[0m\u001b[0;34m(\u001b[0m\u001b[0;34m'int64'\u001b[0m\u001b[0;34m)\u001b[0m \u001b[0;31m#O código gerará um erro, pois há valores NA\u001b[0m\u001b[0;34m\u001b[0m\u001b[0;34m\u001b[0m\u001b[0m\n\u001b[0m",
            "\u001b[0;32m/usr/local/lib/python3.7/dist-packages/pandas/core/generic.py\u001b[0m in \u001b[0;36mastype\u001b[0;34m(self, dtype, copy, errors)\u001b[0m\n\u001b[1;32m   5546\u001b[0m         \u001b[0;32melse\u001b[0m\u001b[0;34m:\u001b[0m\u001b[0;34m\u001b[0m\u001b[0;34m\u001b[0m\u001b[0m\n\u001b[1;32m   5547\u001b[0m             \u001b[0;31m# else, only a single dtype is given\u001b[0m\u001b[0;34m\u001b[0m\u001b[0;34m\u001b[0m\u001b[0;34m\u001b[0m\u001b[0m\n\u001b[0;32m-> 5548\u001b[0;31m             \u001b[0mnew_data\u001b[0m \u001b[0;34m=\u001b[0m \u001b[0mself\u001b[0m\u001b[0;34m.\u001b[0m\u001b[0m_mgr\u001b[0m\u001b[0;34m.\u001b[0m\u001b[0mastype\u001b[0m\u001b[0;34m(\u001b[0m\u001b[0mdtype\u001b[0m\u001b[0;34m=\u001b[0m\u001b[0mdtype\u001b[0m\u001b[0;34m,\u001b[0m \u001b[0mcopy\u001b[0m\u001b[0;34m=\u001b[0m\u001b[0mcopy\u001b[0m\u001b[0;34m,\u001b[0m \u001b[0merrors\u001b[0m\u001b[0;34m=\u001b[0m\u001b[0merrors\u001b[0m\u001b[0;34m,\u001b[0m\u001b[0;34m)\u001b[0m\u001b[0;34m\u001b[0m\u001b[0;34m\u001b[0m\u001b[0m\n\u001b[0m\u001b[1;32m   5549\u001b[0m             \u001b[0;32mreturn\u001b[0m \u001b[0mself\u001b[0m\u001b[0;34m.\u001b[0m\u001b[0m_constructor\u001b[0m\u001b[0;34m(\u001b[0m\u001b[0mnew_data\u001b[0m\u001b[0;34m)\u001b[0m\u001b[0;34m.\u001b[0m\u001b[0m__finalize__\u001b[0m\u001b[0;34m(\u001b[0m\u001b[0mself\u001b[0m\u001b[0;34m,\u001b[0m \u001b[0mmethod\u001b[0m\u001b[0;34m=\u001b[0m\u001b[0;34m\"astype\"\u001b[0m\u001b[0;34m)\u001b[0m\u001b[0;34m\u001b[0m\u001b[0;34m\u001b[0m\u001b[0m\n\u001b[1;32m   5550\u001b[0m \u001b[0;34m\u001b[0m\u001b[0m\n",
            "\u001b[0;32m/usr/local/lib/python3.7/dist-packages/pandas/core/internals/managers.py\u001b[0m in \u001b[0;36mastype\u001b[0;34m(self, dtype, copy, errors)\u001b[0m\n\u001b[1;32m    602\u001b[0m         \u001b[0mself\u001b[0m\u001b[0;34m,\u001b[0m \u001b[0mdtype\u001b[0m\u001b[0;34m,\u001b[0m \u001b[0mcopy\u001b[0m\u001b[0;34m:\u001b[0m \u001b[0mbool\u001b[0m \u001b[0;34m=\u001b[0m \u001b[0;32mFalse\u001b[0m\u001b[0;34m,\u001b[0m \u001b[0merrors\u001b[0m\u001b[0;34m:\u001b[0m \u001b[0mstr\u001b[0m \u001b[0;34m=\u001b[0m \u001b[0;34m\"raise\"\u001b[0m\u001b[0;34m\u001b[0m\u001b[0;34m\u001b[0m\u001b[0m\n\u001b[1;32m    603\u001b[0m     ) -> \"BlockManager\":\n\u001b[0;32m--> 604\u001b[0;31m         \u001b[0;32mreturn\u001b[0m \u001b[0mself\u001b[0m\u001b[0;34m.\u001b[0m\u001b[0mapply\u001b[0m\u001b[0;34m(\u001b[0m\u001b[0;34m\"astype\"\u001b[0m\u001b[0;34m,\u001b[0m \u001b[0mdtype\u001b[0m\u001b[0;34m=\u001b[0m\u001b[0mdtype\u001b[0m\u001b[0;34m,\u001b[0m \u001b[0mcopy\u001b[0m\u001b[0;34m=\u001b[0m\u001b[0mcopy\u001b[0m\u001b[0;34m,\u001b[0m \u001b[0merrors\u001b[0m\u001b[0;34m=\u001b[0m\u001b[0merrors\u001b[0m\u001b[0;34m)\u001b[0m\u001b[0;34m\u001b[0m\u001b[0;34m\u001b[0m\u001b[0m\n\u001b[0m\u001b[1;32m    605\u001b[0m \u001b[0;34m\u001b[0m\u001b[0m\n\u001b[1;32m    606\u001b[0m     def convert(\n",
            "\u001b[0;32m/usr/local/lib/python3.7/dist-packages/pandas/core/internals/managers.py\u001b[0m in \u001b[0;36mapply\u001b[0;34m(self, f, align_keys, **kwargs)\u001b[0m\n\u001b[1;32m    407\u001b[0m                 \u001b[0mapplied\u001b[0m \u001b[0;34m=\u001b[0m \u001b[0mb\u001b[0m\u001b[0;34m.\u001b[0m\u001b[0mapply\u001b[0m\u001b[0;34m(\u001b[0m\u001b[0mf\u001b[0m\u001b[0;34m,\u001b[0m \u001b[0;34m**\u001b[0m\u001b[0mkwargs\u001b[0m\u001b[0;34m)\u001b[0m\u001b[0;34m\u001b[0m\u001b[0;34m\u001b[0m\u001b[0m\n\u001b[1;32m    408\u001b[0m             \u001b[0;32melse\u001b[0m\u001b[0;34m:\u001b[0m\u001b[0;34m\u001b[0m\u001b[0;34m\u001b[0m\u001b[0m\n\u001b[0;32m--> 409\u001b[0;31m                 \u001b[0mapplied\u001b[0m \u001b[0;34m=\u001b[0m \u001b[0mgetattr\u001b[0m\u001b[0;34m(\u001b[0m\u001b[0mb\u001b[0m\u001b[0;34m,\u001b[0m \u001b[0mf\u001b[0m\u001b[0;34m)\u001b[0m\u001b[0;34m(\u001b[0m\u001b[0;34m**\u001b[0m\u001b[0mkwargs\u001b[0m\u001b[0;34m)\u001b[0m\u001b[0;34m\u001b[0m\u001b[0;34m\u001b[0m\u001b[0m\n\u001b[0m\u001b[1;32m    410\u001b[0m             \u001b[0mresult_blocks\u001b[0m \u001b[0;34m=\u001b[0m \u001b[0m_extend_blocks\u001b[0m\u001b[0;34m(\u001b[0m\u001b[0mapplied\u001b[0m\u001b[0;34m,\u001b[0m \u001b[0mresult_blocks\u001b[0m\u001b[0;34m)\u001b[0m\u001b[0;34m\u001b[0m\u001b[0;34m\u001b[0m\u001b[0m\n\u001b[1;32m    411\u001b[0m \u001b[0;34m\u001b[0m\u001b[0m\n",
            "\u001b[0;32m/usr/local/lib/python3.7/dist-packages/pandas/core/internals/blocks.py\u001b[0m in \u001b[0;36mastype\u001b[0;34m(self, dtype, copy, errors)\u001b[0m\n\u001b[1;32m    593\u001b[0m             \u001b[0mvals1d\u001b[0m \u001b[0;34m=\u001b[0m \u001b[0mvalues\u001b[0m\u001b[0;34m.\u001b[0m\u001b[0mravel\u001b[0m\u001b[0;34m(\u001b[0m\u001b[0;34m)\u001b[0m\u001b[0;34m\u001b[0m\u001b[0;34m\u001b[0m\u001b[0m\n\u001b[1;32m    594\u001b[0m             \u001b[0;32mtry\u001b[0m\u001b[0;34m:\u001b[0m\u001b[0;34m\u001b[0m\u001b[0;34m\u001b[0m\u001b[0m\n\u001b[0;32m--> 595\u001b[0;31m                 \u001b[0mvalues\u001b[0m \u001b[0;34m=\u001b[0m \u001b[0mastype_nansafe\u001b[0m\u001b[0;34m(\u001b[0m\u001b[0mvals1d\u001b[0m\u001b[0;34m,\u001b[0m \u001b[0mdtype\u001b[0m\u001b[0;34m,\u001b[0m \u001b[0mcopy\u001b[0m\u001b[0;34m=\u001b[0m\u001b[0;32mTrue\u001b[0m\u001b[0;34m)\u001b[0m\u001b[0;34m\u001b[0m\u001b[0;34m\u001b[0m\u001b[0m\n\u001b[0m\u001b[1;32m    596\u001b[0m             \u001b[0;32mexcept\u001b[0m \u001b[0;34m(\u001b[0m\u001b[0mValueError\u001b[0m\u001b[0;34m,\u001b[0m \u001b[0mTypeError\u001b[0m\u001b[0;34m)\u001b[0m\u001b[0;34m:\u001b[0m\u001b[0;34m\u001b[0m\u001b[0;34m\u001b[0m\u001b[0m\n\u001b[1;32m    597\u001b[0m                 \u001b[0;31m# e.g. astype_nansafe can fail on object-dtype of strings\u001b[0m\u001b[0;34m\u001b[0m\u001b[0;34m\u001b[0m\u001b[0;34m\u001b[0m\u001b[0m\n",
            "\u001b[0;32m/usr/local/lib/python3.7/dist-packages/pandas/core/dtypes/cast.py\u001b[0m in \u001b[0;36mastype_nansafe\u001b[0;34m(arr, dtype, copy, skipna)\u001b[0m\n\u001b[1;32m    966\u001b[0m \u001b[0;34m\u001b[0m\u001b[0m\n\u001b[1;32m    967\u001b[0m         \u001b[0;32mif\u001b[0m \u001b[0;32mnot\u001b[0m \u001b[0mnp\u001b[0m\u001b[0;34m.\u001b[0m\u001b[0misfinite\u001b[0m\u001b[0;34m(\u001b[0m\u001b[0marr\u001b[0m\u001b[0;34m)\u001b[0m\u001b[0;34m.\u001b[0m\u001b[0mall\u001b[0m\u001b[0;34m(\u001b[0m\u001b[0;34m)\u001b[0m\u001b[0;34m:\u001b[0m\u001b[0;34m\u001b[0m\u001b[0;34m\u001b[0m\u001b[0m\n\u001b[0;32m--> 968\u001b[0;31m             \u001b[0;32mraise\u001b[0m \u001b[0mValueError\u001b[0m\u001b[0;34m(\u001b[0m\u001b[0;34m\"Cannot convert non-finite values (NA or inf) to integer\"\u001b[0m\u001b[0;34m)\u001b[0m\u001b[0;34m\u001b[0m\u001b[0;34m\u001b[0m\u001b[0m\n\u001b[0m\u001b[1;32m    969\u001b[0m \u001b[0;34m\u001b[0m\u001b[0m\n\u001b[1;32m    970\u001b[0m     \u001b[0;32melif\u001b[0m \u001b[0mis_object_dtype\u001b[0m\u001b[0;34m(\u001b[0m\u001b[0marr\u001b[0m\u001b[0;34m)\u001b[0m\u001b[0;34m:\u001b[0m\u001b[0;34m\u001b[0m\u001b[0;34m\u001b[0m\u001b[0m\n",
            "\u001b[0;31mValueError\u001b[0m: Cannot convert non-finite values (NA or inf) to integer"
          ]
        }
      ]
    },
    {
      "cell_type": "code",
      "metadata": {
        "id": "3Y_QdjbORzC5"
      },
      "source": [
        "#Preenchendo com 0 aonde possui NA\n",
        "emprestimos.matricula_ou_siape = emprestimos.matricula_ou_siape.fillna(0)"
      ],
      "execution_count": null,
      "outputs": []
    },
    {
      "cell_type": "code",
      "metadata": {
        "id": "aLlVwveXYSyL",
        "colab": {
          "base_uri": "https://localhost:8080/",
          "height": 289
        },
        "outputId": "b9aa24a3-ed84-4180-a727-7a2e7862cc55"
      },
      "source": [
        "emprestimos.matricula_ou_siape = emprestimos.matricula_ou_siape.astype('int64')\n",
        "emprestimos.head()"
      ],
      "execution_count": null,
      "outputs": [
        {
          "output_type": "execute_result",
          "data": {
            "text/html": [
              "<div>\n",
              "<style scoped>\n",
              "    .dataframe tbody tr th:only-of-type {\n",
              "        vertical-align: middle;\n",
              "    }\n",
              "\n",
              "    .dataframe tbody tr th {\n",
              "        vertical-align: top;\n",
              "    }\n",
              "\n",
              "    .dataframe thead th {\n",
              "        text-align: right;\n",
              "    }\n",
              "</style>\n",
              "<table border=\"1\" class=\"dataframe\">\n",
              "  <thead>\n",
              "    <tr style=\"text-align: right;\">\n",
              "      <th></th>\n",
              "      <th>id_emprestimo</th>\n",
              "      <th>codigo_barras</th>\n",
              "      <th>data_renovacao</th>\n",
              "      <th>data_emprestimo</th>\n",
              "      <th>data_devolucao</th>\n",
              "      <th>matricula_ou_siape</th>\n",
              "      <th>tipo_vinculo_usuario</th>\n",
              "    </tr>\n",
              "  </thead>\n",
              "  <tbody>\n",
              "    <tr>\n",
              "      <th>0</th>\n",
              "      <td>2782809</td>\n",
              "      <td>L169931</td>\n",
              "      <td>NaN</td>\n",
              "      <td>2019/01/02 08:09:52.211000000</td>\n",
              "      <td>2019/01/25 11:40:31.000000000</td>\n",
              "      <td>20191005377</td>\n",
              "      <td>ALUNO DE PÓS-GRADUAÇÃO</td>\n",
              "    </tr>\n",
              "    <tr>\n",
              "      <th>1</th>\n",
              "      <td>2782810</td>\n",
              "      <td>L099542</td>\n",
              "      <td>NaN</td>\n",
              "      <td>2019/01/02 08:09:52.286000000</td>\n",
              "      <td>2019/01/03 18:29:29.000000000</td>\n",
              "      <td>20191005377</td>\n",
              "      <td>ALUNO DE PÓS-GRADUAÇÃO</td>\n",
              "    </tr>\n",
              "    <tr>\n",
              "      <th>2</th>\n",
              "      <td>2782811</td>\n",
              "      <td>L199924</td>\n",
              "      <td>NaN</td>\n",
              "      <td>2019/01/02 08:09:52.321000000</td>\n",
              "      <td>2019/01/25 11:40:25.000000000</td>\n",
              "      <td>20191005377</td>\n",
              "      <td>ALUNO DE PÓS-GRADUAÇÃO</td>\n",
              "    </tr>\n",
              "    <tr>\n",
              "      <th>3</th>\n",
              "      <td>2782812</td>\n",
              "      <td>2010081229</td>\n",
              "      <td>2019/01/17 06:20:06.044000000</td>\n",
              "      <td>2019/01/02 08:30:25.722000000</td>\n",
              "      <td>2019/01/28 08:22:55.000000000</td>\n",
              "      <td>20180140444</td>\n",
              "      <td>ALUNO DE GRADUAÇÃO</td>\n",
              "    </tr>\n",
              "    <tr>\n",
              "      <th>4</th>\n",
              "      <td>2782813</td>\n",
              "      <td>2018022572</td>\n",
              "      <td>2019/01/17 06:20:06.019000000</td>\n",
              "      <td>2019/01/02 08:30:25.758000000</td>\n",
              "      <td>2019/01/28 08:22:42.000000000</td>\n",
              "      <td>20180140444</td>\n",
              "      <td>ALUNO DE GRADUAÇÃO</td>\n",
              "    </tr>\n",
              "  </tbody>\n",
              "</table>\n",
              "</div>"
            ],
            "text/plain": [
              "   id_emprestimo codigo_barras  ... matricula_ou_siape    tipo_vinculo_usuario\n",
              "0        2782809       L169931  ...        20191005377  ALUNO DE PÓS-GRADUAÇÃO\n",
              "1        2782810       L099542  ...        20191005377  ALUNO DE PÓS-GRADUAÇÃO\n",
              "2        2782811       L199924  ...        20191005377  ALUNO DE PÓS-GRADUAÇÃO\n",
              "3        2782812    2010081229  ...        20180140444      ALUNO DE GRADUAÇÃO\n",
              "4        2782813    2018022572  ...        20180140444      ALUNO DE GRADUAÇÃO\n",
              "\n",
              "[5 rows x 7 columns]"
            ]
          },
          "metadata": {},
          "execution_count": 6
        }
      ]
    },
    {
      "cell_type": "markdown",
      "metadata": {
        "id": "FUHGGsLPiv_0"
      },
      "source": [
        "## Gráfico de Barra"
      ]
    },
    {
      "cell_type": "code",
      "metadata": {
        "id": "wjGmFJHcTkD9",
        "colab": {
          "base_uri": "https://localhost:8080/"
        },
        "outputId": "02768d49-588e-4be2-df35-1af315bb041b"
      },
      "source": [
        "#Contando a frequência de empréstimos por tipos de usuários\n",
        "freq_tipos_usuarios = emprestimos.tipo_vinculo_usuario.value_counts(ascending = True)\n",
        "freq_tipos_usuarios\n",
        "\n"
      ],
      "execution_count": null,
      "outputs": [
        {
          "output_type": "execute_result",
          "data": {
            "text/plain": [
              "USUÁRIO EXTERNO                       82\n",
              "ALUNO MÉDIO/TÉCNICO                 1474\n",
              "SERVIDOR TÉCNICO-ADMINISTRATIVO     1693\n",
              "DOCENTE EXTERNO                     2287\n",
              "DOCENTE                             3749\n",
              "ALUNO DE PÓS-GRADUAÇÃO             14907\n",
              "ALUNO DE GRADUAÇÃO                 71647\n",
              "Name: tipo_vinculo_usuario, dtype: int64"
            ]
          },
          "metadata": {},
          "execution_count": 27
        }
      ]
    },
    {
      "cell_type": "code",
      "metadata": {
        "colab": {
          "base_uri": "https://localhost:8080/",
          "height": 353
        },
        "id": "Z7BEr5GbPp9b",
        "outputId": "ea9238e5-54e1-42f1-b645-b21c5ab13087"
      },
      "source": [
        "#Criando um gráfico de barras \n",
        "freq_tipos_usuarios.plot.barh(\n",
        "    y= freq_tipos_usuarios,\n",
        "    title = 'Frequência de empréstimos por tipo de usuário', #Acrescentando título\n",
        "    figsize = (10,5), #Modificando o tamanho do gráfico\n",
        "    color = 'purple', #Modificando a cor do gráfico\n",
        "    \n",
        ")"
      ],
      "execution_count": null,
      "outputs": [
        {
          "output_type": "execute_result",
          "data": {
            "text/plain": [
              "<matplotlib.axes._subplots.AxesSubplot at 0x7f12262dd390>"
            ]
          },
          "metadata": {},
          "execution_count": 9
        },
        {
          "output_type": "display_data",
          "data": {
            "image/png": "[encoded data removed]",
            "text/plain": [
              "<Figure size 720x360 with 1 Axes>"
            ]
          },
          "metadata": {
            "needs_background": "light"
          }
        }
      ]
    },
    {
      "cell_type": "code",
      "metadata": {
        "colab": {
          "base_uri": "https://localhost:8080/"
        },
        "id": "bvf_L_QD0nzL",
        "outputId": "b04e5efd-d969-4a8f-bed3-287e39c73064"
      },
      "source": [
        "#Percentual de empréstimos por tipos de usuários\n",
        "perc_freq_tipos_usuarios = emprestimos.tipo_vinculo_usuario.value_counts(ascending = True, normalize= True)\n",
        "round(perc_freq_tipos_usuarios * 100, 2)"
      ],
      "execution_count": null,
      "outputs": [
        {
          "output_type": "execute_result",
          "data": {
            "text/plain": [
              "USUÁRIO EXTERNO                     0.09\n",
              "ALUNO MÉDIO/TÉCNICO                 1.54\n",
              "SERVIDOR TÉCNICO-ADMINISTRATIVO     1.77\n",
              "DOCENTE EXTERNO                     2.39\n",
              "DOCENTE                             3.91\n",
              "ALUNO DE PÓS-GRADUAÇÃO             15.55\n",
              "ALUNO DE GRADUAÇÃO                 74.76\n",
              "Name: tipo_vinculo_usuario, dtype: float64"
            ]
          },
          "metadata": {},
          "execution_count": 26
        }
      ]
    },
    {
      "cell_type": "markdown",
      "metadata": {
        "id": "6YTS-ioMiqR7"
      },
      "source": [
        "##Gráfico de Linha"
      ]
    },
    {
      "cell_type": "code",
      "metadata": {
        "colab": {
          "base_uri": "https://localhost:8080/",
          "height": 289
        },
        "id": "jMZ4SVoqp--H",
        "outputId": "ddfea263-492c-42e7-dd39-5c895af20d45"
      },
      "source": [
        "emprestimos.head()"
      ],
      "execution_count": null,
      "outputs": [
        {
          "output_type": "execute_result",
          "data": {
            "text/html": [
              "<div>\n",
              "<style scoped>\n",
              "    .dataframe tbody tr th:only-of-type {\n",
              "        vertical-align: middle;\n",
              "    }\n",
              "\n",
              "    .dataframe tbody tr th {\n",
              "        vertical-align: top;\n",
              "    }\n",
              "\n",
              "    .dataframe thead th {\n",
              "        text-align: right;\n",
              "    }\n",
              "</style>\n",
              "<table border=\"1\" class=\"dataframe\">\n",
              "  <thead>\n",
              "    <tr style=\"text-align: right;\">\n",
              "      <th></th>\n",
              "      <th>id_emprestimo</th>\n",
              "      <th>codigo_barras</th>\n",
              "      <th>data_renovacao</th>\n",
              "      <th>data_emprestimo</th>\n",
              "      <th>data_devolucao</th>\n",
              "      <th>matricula_ou_siape</th>\n",
              "      <th>tipo_vinculo_usuario</th>\n",
              "    </tr>\n",
              "  </thead>\n",
              "  <tbody>\n",
              "    <tr>\n",
              "      <th>0</th>\n",
              "      <td>2782809</td>\n",
              "      <td>L169931</td>\n",
              "      <td>NaN</td>\n",
              "      <td>2019/01/02 08:09:52.211000000</td>\n",
              "      <td>2019/01/25 11:40:31.000000000</td>\n",
              "      <td>20191005377</td>\n",
              "      <td>ALUNO DE PÓS-GRADUAÇÃO</td>\n",
              "    </tr>\n",
              "    <tr>\n",
              "      <th>1</th>\n",
              "      <td>2782810</td>\n",
              "      <td>L099542</td>\n",
              "      <td>NaN</td>\n",
              "      <td>2019/01/02 08:09:52.286000000</td>\n",
              "      <td>2019/01/03 18:29:29.000000000</td>\n",
              "      <td>20191005377</td>\n",
              "      <td>ALUNO DE PÓS-GRADUAÇÃO</td>\n",
              "    </tr>\n",
              "    <tr>\n",
              "      <th>2</th>\n",
              "      <td>2782811</td>\n",
              "      <td>L199924</td>\n",
              "      <td>NaN</td>\n",
              "      <td>2019/01/02 08:09:52.321000000</td>\n",
              "      <td>2019/01/25 11:40:25.000000000</td>\n",
              "      <td>20191005377</td>\n",
              "      <td>ALUNO DE PÓS-GRADUAÇÃO</td>\n",
              "    </tr>\n",
              "    <tr>\n",
              "      <th>3</th>\n",
              "      <td>2782812</td>\n",
              "      <td>2010081229</td>\n",
              "      <td>2019/01/17 06:20:06.044000000</td>\n",
              "      <td>2019/01/02 08:30:25.722000000</td>\n",
              "      <td>2019/01/28 08:22:55.000000000</td>\n",
              "      <td>20180140444</td>\n",
              "      <td>ALUNO DE GRADUAÇÃO</td>\n",
              "    </tr>\n",
              "    <tr>\n",
              "      <th>4</th>\n",
              "      <td>2782813</td>\n",
              "      <td>2018022572</td>\n",
              "      <td>2019/01/17 06:20:06.019000000</td>\n",
              "      <td>2019/01/02 08:30:25.758000000</td>\n",
              "      <td>2019/01/28 08:22:42.000000000</td>\n",
              "      <td>20180140444</td>\n",
              "      <td>ALUNO DE GRADUAÇÃO</td>\n",
              "    </tr>\n",
              "  </tbody>\n",
              "</table>\n",
              "</div>"
            ],
            "text/plain": [
              "   id_emprestimo codigo_barras  ... matricula_ou_siape    tipo_vinculo_usuario\n",
              "0        2782809       L169931  ...        20191005377  ALUNO DE PÓS-GRADUAÇÃO\n",
              "1        2782810       L099542  ...        20191005377  ALUNO DE PÓS-GRADUAÇÃO\n",
              "2        2782811       L199924  ...        20191005377  ALUNO DE PÓS-GRADUAÇÃO\n",
              "3        2782812    2010081229  ...        20180140444      ALUNO DE GRADUAÇÃO\n",
              "4        2782813    2018022572  ...        20180140444      ALUNO DE GRADUAÇÃO\n",
              "\n",
              "[5 rows x 7 columns]"
            ]
          },
          "metadata": {},
          "execution_count": 11
        }
      ]
    },
    {
      "cell_type": "code",
      "metadata": {
        "colab": {
          "base_uri": "https://localhost:8080/"
        },
        "id": "z23tbhWfqCUy",
        "outputId": "39cc5e60-160a-4cb3-e0a6-04b65863eff9"
      },
      "source": [
        "emprestimos['data_emprestimo']"
      ],
      "execution_count": null,
      "outputs": [
        {
          "output_type": "execute_result",
          "data": {
            "text/plain": [
              "0        2019/01/02 08:09:52.211000000\n",
              "1        2019/01/02 08:09:52.286000000\n",
              "2        2019/01/02 08:09:52.321000000\n",
              "3        2019/01/02 08:30:25.722000000\n",
              "4        2019/01/02 08:30:25.758000000\n",
              "                     ...              \n",
              "95834    2019/06/28 20:57:00.438000000\n",
              "95835    2019/06/28 20:57:00.461000000\n",
              "95836    2019/06/28 20:57:51.874000000\n",
              "95837    2019/06/28 20:59:48.447000000\n",
              "95838    2019/06/28 21:06:48.436000000\n",
              "Name: data_emprestimo, Length: 95839, dtype: object"
            ]
          },
          "metadata": {},
          "execution_count": 12
        }
      ]
    },
    {
      "cell_type": "code",
      "metadata": {
        "id": "-60eyU7Y9bZ0"
      },
      "source": [
        "#Transformando a serie 'data_emprestimo' em formato datetime\n",
        "emprestimos['data_emprestimo'] = pd.to_datetime(emprestimos['data_emprestimo'])"
      ],
      "execution_count": null,
      "outputs": []
    },
    {
      "cell_type": "code",
      "metadata": {
        "colab": {
          "base_uri": "https://localhost:8080/"
        },
        "id": "QTIKhYZ-qsXW",
        "outputId": "a53ca017-797a-4501-a192-8c5d3f998ec2"
      },
      "source": [
        "emprestimos['data_emprestimo']"
      ],
      "execution_count": null,
      "outputs": [
        {
          "output_type": "execute_result",
          "data": {
            "text/plain": [
              "0       2019-01-02 08:09:52.211\n",
              "1       2019-01-02 08:09:52.286\n",
              "2       2019-01-02 08:09:52.321\n",
              "3       2019-01-02 08:30:25.722\n",
              "4       2019-01-02 08:30:25.758\n",
              "                  ...          \n",
              "95834   2019-06-28 20:57:00.438\n",
              "95835   2019-06-28 20:57:00.461\n",
              "95836   2019-06-28 20:57:51.874\n",
              "95837   2019-06-28 20:59:48.447\n",
              "95838   2019-06-28 21:06:48.436\n",
              "Name: data_emprestimo, Length: 95839, dtype: datetime64[ns]"
            ]
          },
          "metadata": {},
          "execution_count": 14
        }
      ]
    },
    {
      "cell_type": "code",
      "metadata": {
        "id": "FpUU95UYq0GO"
      },
      "source": [
        "#Criando a coluna com o número do mês referente\n",
        "emprestimos['mes_emprestimo'] = emprestimos['data_emprestimo'].dt.month"
      ],
      "execution_count": null,
      "outputs": []
    },
    {
      "cell_type": "code",
      "metadata": {
        "colab": {
          "base_uri": "https://localhost:8080/",
          "height": 235
        },
        "id": "8mVDuvF7rYlX",
        "outputId": "10b5479b-4790-4301-e4c8-cd9651a79277"
      },
      "source": [
        "#Frequencia de emprestimos por mês\n",
        "freq_mes_emprestimo = emprestimos.mes_emprestimo.value_counts()\n",
        "freq_mes_emprestimo = freq_mes_emprestimo.reset_index() #resetando o índice para usar a coluna de número de meses\n",
        "freq_mes_emprestimo = freq_mes_emprestimo.rename(columns={'index': 'mes', 'mes_emprestimo': 'emprestimos'}) #modificando o nome da coluna para mes\n",
        "freq_mes_emprestimo\n"
      ],
      "execution_count": null,
      "outputs": [
        {
          "output_type": "execute_result",
          "data": {
            "text/html": [
              "<div>\n",
              "<style scoped>\n",
              "    .dataframe tbody tr th:only-of-type {\n",
              "        vertical-align: middle;\n",
              "    }\n",
              "\n",
              "    .dataframe tbody tr th {\n",
              "        vertical-align: top;\n",
              "    }\n",
              "\n",
              "    .dataframe thead th {\n",
              "        text-align: right;\n",
              "    }\n",
              "</style>\n",
              "<table border=\"1\" class=\"dataframe\">\n",
              "  <thead>\n",
              "    <tr style=\"text-align: right;\">\n",
              "      <th></th>\n",
              "      <th>mes</th>\n",
              "      <th>emprestimos</th>\n",
              "    </tr>\n",
              "  </thead>\n",
              "  <tbody>\n",
              "    <tr>\n",
              "      <th>0</th>\n",
              "      <td>2</td>\n",
              "      <td>22043</td>\n",
              "    </tr>\n",
              "    <tr>\n",
              "      <th>1</th>\n",
              "      <td>3</td>\n",
              "      <td>20768</td>\n",
              "    </tr>\n",
              "    <tr>\n",
              "      <th>2</th>\n",
              "      <td>4</td>\n",
              "      <td>19265</td>\n",
              "    </tr>\n",
              "    <tr>\n",
              "      <th>3</th>\n",
              "      <td>5</td>\n",
              "      <td>17529</td>\n",
              "    </tr>\n",
              "    <tr>\n",
              "      <th>4</th>\n",
              "      <td>6</td>\n",
              "      <td>11421</td>\n",
              "    </tr>\n",
              "    <tr>\n",
              "      <th>5</th>\n",
              "      <td>1</td>\n",
              "      <td>4813</td>\n",
              "    </tr>\n",
              "  </tbody>\n",
              "</table>\n",
              "</div>"
            ],
            "text/plain": [
              "   mes  emprestimos\n",
              "0    2        22043\n",
              "1    3        20768\n",
              "2    4        19265\n",
              "3    5        17529\n",
              "4    6        11421\n",
              "5    1         4813"
            ]
          },
          "metadata": {},
          "execution_count": 16
        }
      ]
    },
    {
      "cell_type": "code",
      "metadata": {
        "colab": {
          "base_uri": "https://localhost:8080/",
          "height": 235
        },
        "id": "g13kNUyzxYAc",
        "outputId": "94f5e10e-3949-455a-d3a9-8ddde94a9794"
      },
      "source": [
        "#Reordenando pelo numero do mês\n",
        "freq_mes_emprestimo = freq_mes_emprestimo.sort_values(by=['mes'])\n",
        "freq_mes_emprestimo"
      ],
      "execution_count": null,
      "outputs": [
        {
          "output_type": "execute_result",
          "data": {
            "text/html": [
              "<div>\n",
              "<style scoped>\n",
              "    .dataframe tbody tr th:only-of-type {\n",
              "        vertical-align: middle;\n",
              "    }\n",
              "\n",
              "    .dataframe tbody tr th {\n",
              "        vertical-align: top;\n",
              "    }\n",
              "\n",
              "    .dataframe thead th {\n",
              "        text-align: right;\n",
              "    }\n",
              "</style>\n",
              "<table border=\"1\" class=\"dataframe\">\n",
              "  <thead>\n",
              "    <tr style=\"text-align: right;\">\n",
              "      <th></th>\n",
              "      <th>mes</th>\n",
              "      <th>emprestimos</th>\n",
              "    </tr>\n",
              "  </thead>\n",
              "  <tbody>\n",
              "    <tr>\n",
              "      <th>5</th>\n",
              "      <td>1</td>\n",
              "      <td>4813</td>\n",
              "    </tr>\n",
              "    <tr>\n",
              "      <th>0</th>\n",
              "      <td>2</td>\n",
              "      <td>22043</td>\n",
              "    </tr>\n",
              "    <tr>\n",
              "      <th>1</th>\n",
              "      <td>3</td>\n",
              "      <td>20768</td>\n",
              "    </tr>\n",
              "    <tr>\n",
              "      <th>2</th>\n",
              "      <td>4</td>\n",
              "      <td>19265</td>\n",
              "    </tr>\n",
              "    <tr>\n",
              "      <th>3</th>\n",
              "      <td>5</td>\n",
              "      <td>17529</td>\n",
              "    </tr>\n",
              "    <tr>\n",
              "      <th>4</th>\n",
              "      <td>6</td>\n",
              "      <td>11421</td>\n",
              "    </tr>\n",
              "  </tbody>\n",
              "</table>\n",
              "</div>"
            ],
            "text/plain": [
              "   mes  emprestimos\n",
              "5    1         4813\n",
              "0    2        22043\n",
              "1    3        20768\n",
              "2    4        19265\n",
              "3    5        17529\n",
              "4    6        11421"
            ]
          },
          "metadata": {},
          "execution_count": 17
        }
      ]
    },
    {
      "cell_type": "code",
      "metadata": {
        "colab": {
          "base_uri": "https://localhost:8080/",
          "height": 312
        },
        "id": "U2vf4A1Prpum",
        "outputId": "04c5b979-fb75-4bfb-f436-d92d14b52864"
      },
      "source": [
        "freq_mes_emprestimo.plot.line(\n",
        "    x = 'mes',                                   #Condigurando o dado no eixo x\n",
        "    y = 'emprestimos',                           #Configurando o dado no eixo y\n",
        "    yticks = range(0,26000,2000),                #Modificando a escala do eixo y\n",
        "    xlabel = 'Mês',                              #Acrescentando o rótulo no eixo x\n",
        "    title = 'Frequência de empréstimos por mês' #Acrescentando título\n",
        ")"
      ],
      "execution_count": null,
      "outputs": [
        {
          "output_type": "execute_result",
          "data": {
            "text/plain": [
              "<matplotlib.axes._subplots.AxesSubplot at 0x7f12257ae510>"
            ]
          },
          "metadata": {},
          "execution_count": 24
        },
        {
          "output_type": "display_data",
          "data": {
            "image/png": "[encoded data removed]",
            "text/plain": [
              "<Figure size 432x288 with 1 Axes>"
            ]
          },
          "metadata": {
            "needs_background": "light"
          }
        }
      ]
    },
    {
      "cell_type": "code",
      "metadata": {
        "id": "hnfeeA3Urp8z"
      },
      "source": [
        ""
      ],
      "execution_count": null,
      "outputs": []
    },
    {
      "cell_type": "markdown",
      "metadata": {
        "id": "-fzpriZvjCeC"
      },
      "source": [
        "##Gráfico Histograma"
      ]
    },
    {
      "cell_type": "code",
      "metadata": {
        "id": "_SXCTVswjEFh",
        "colab": {
          "base_uri": "https://localhost:8080/",
          "height": 309
        },
        "outputId": "79f977ed-9d28-44d7-a9d6-c3befa6b1392"
      },
      "source": [
        "emprestimos.head()"
      ],
      "execution_count": null,
      "outputs": [
        {
          "output_type": "execute_result",
          "data": {
            "text/html": [
              "<div>\n",
              "<style scoped>\n",
              "    .dataframe tbody tr th:only-of-type {\n",
              "        vertical-align: middle;\n",
              "    }\n",
              "\n",
              "    .dataframe tbody tr th {\n",
              "        vertical-align: top;\n",
              "    }\n",
              "\n",
              "    .dataframe thead th {\n",
              "        text-align: right;\n",
              "    }\n",
              "</style>\n",
              "<table border=\"1\" class=\"dataframe\">\n",
              "  <thead>\n",
              "    <tr style=\"text-align: right;\">\n",
              "      <th></th>\n",
              "      <th>id_emprestimo</th>\n",
              "      <th>codigo_barras</th>\n",
              "      <th>data_renovacao</th>\n",
              "      <th>data_emprestimo</th>\n",
              "      <th>data_devolucao</th>\n",
              "      <th>matricula_ou_siape</th>\n",
              "      <th>tipo_vinculo_usuario</th>\n",
              "      <th>mes_emprestimo</th>\n",
              "    </tr>\n",
              "  </thead>\n",
              "  <tbody>\n",
              "    <tr>\n",
              "      <th>0</th>\n",
              "      <td>2782809</td>\n",
              "      <td>L169931</td>\n",
              "      <td>NaN</td>\n",
              "      <td>2019-01-02 08:09:52.211</td>\n",
              "      <td>2019/01/25 11:40:31.000000000</td>\n",
              "      <td>20191005377</td>\n",
              "      <td>ALUNO DE PÓS-GRADUAÇÃO</td>\n",
              "      <td>1</td>\n",
              "    </tr>\n",
              "    <tr>\n",
              "      <th>1</th>\n",
              "      <td>2782810</td>\n",
              "      <td>L099542</td>\n",
              "      <td>NaN</td>\n",
              "      <td>2019-01-02 08:09:52.286</td>\n",
              "      <td>2019/01/03 18:29:29.000000000</td>\n",
              "      <td>20191005377</td>\n",
              "      <td>ALUNO DE PÓS-GRADUAÇÃO</td>\n",
              "      <td>1</td>\n",
              "    </tr>\n",
              "    <tr>\n",
              "      <th>2</th>\n",
              "      <td>2782811</td>\n",
              "      <td>L199924</td>\n",
              "      <td>NaN</td>\n",
              "      <td>2019-01-02 08:09:52.321</td>\n",
              "      <td>2019/01/25 11:40:25.000000000</td>\n",
              "      <td>20191005377</td>\n",
              "      <td>ALUNO DE PÓS-GRADUAÇÃO</td>\n",
              "      <td>1</td>\n",
              "    </tr>\n",
              "    <tr>\n",
              "      <th>3</th>\n",
              "      <td>2782812</td>\n",
              "      <td>2010081229</td>\n",
              "      <td>2019/01/17 06:20:06.044000000</td>\n",
              "      <td>2019-01-02 08:30:25.722</td>\n",
              "      <td>2019/01/28 08:22:55.000000000</td>\n",
              "      <td>20180140444</td>\n",
              "      <td>ALUNO DE GRADUAÇÃO</td>\n",
              "      <td>1</td>\n",
              "    </tr>\n",
              "    <tr>\n",
              "      <th>4</th>\n",
              "      <td>2782813</td>\n",
              "      <td>2018022572</td>\n",
              "      <td>2019/01/17 06:20:06.019000000</td>\n",
              "      <td>2019-01-02 08:30:25.758</td>\n",
              "      <td>2019/01/28 08:22:42.000000000</td>\n",
              "      <td>20180140444</td>\n",
              "      <td>ALUNO DE GRADUAÇÃO</td>\n",
              "      <td>1</td>\n",
              "    </tr>\n",
              "  </tbody>\n",
              "</table>\n",
              "</div>"
            ],
            "text/plain": [
              "   id_emprestimo codigo_barras  ...    tipo_vinculo_usuario mes_emprestimo\n",
              "0        2782809       L169931  ...  ALUNO DE PÓS-GRADUAÇÃO              1\n",
              "1        2782810       L099542  ...  ALUNO DE PÓS-GRADUAÇÃO              1\n",
              "2        2782811       L199924  ...  ALUNO DE PÓS-GRADUAÇÃO              1\n",
              "3        2782812    2010081229  ...      ALUNO DE GRADUAÇÃO              1\n",
              "4        2782813    2018022572  ...      ALUNO DE GRADUAÇÃO              1\n",
              "\n",
              "[5 rows x 8 columns]"
            ]
          },
          "metadata": {},
          "execution_count": 123
        }
      ]
    },
    {
      "cell_type": "code",
      "metadata": {
        "id": "rIBk76rPj7D9"
      },
      "source": [
        "emprestimos = emprestimos[['tipo_vinculo_usuario','mes_emprestimo']]"
      ],
      "execution_count": null,
      "outputs": []
    },
    {
      "cell_type": "code",
      "metadata": {
        "id": "sLvYoqxlE-p5"
      },
      "source": [
        "#Construindo dataframes para cada tipo de vinculo de usuario\n",
        "tabela_aluno_pos = emprestimos.query('tipo_vinculo_usuario == \"ALUNO DE PÓS-GRADUAÇÃO\"')[['tipo_vinculo_usuario','mes_emprestimo']]\n",
        "tabela_aluno_graduacao = emprestimos.query('tipo_vinculo_usuario == \"ALUNO DE GRADUAÇÃO\"')[['tipo_vinculo_usuario','mes_emprestimo']]\n",
        "tabela_docente = emprestimos.query('tipo_vinculo_usuario == \"DOCENTE\"')[['tipo_vinculo_usuario','mes_emprestimo']]\n",
        "tabela_docente_externo = emprestimos.query('tipo_vinculo_usuario == \"DOCENTE EXTERNO\"')[['tipo_vinculo_usuario','mes_emprestimo']]\n",
        "tabela_servidor_TA = emprestimos.query('tipo_vinculo_usuario == \"SERVIDOR TÉCNICO-ADMINISTRATIVO\"')[['tipo_vinculo_usuario','mes_emprestimo']]\n",
        "tabela_aluno_mediotec = emprestimos.query('tipo_vinculo_usuario == \"ALUNO MÉDIO/TÉCNICO\"')[['tipo_vinculo_usuario','mes_emprestimo']]\n",
        "tabela_usuarioext = emprestimos.query('tipo_vinculo_usuario == \"USUÁRIO EXTERNO\"')[['tipo_vinculo_usuario','mes_emprestimo']]"
      ],
      "execution_count": null,
      "outputs": []
    },
    {
      "cell_type": "code",
      "metadata": {
        "colab": {
          "base_uri": "https://localhost:8080/",
          "height": 298
        },
        "id": "8uJ1msISqjIz",
        "outputId": "3aa8b1f6-e5f5-46b8-842a-60dc163a6fc4"
      },
      "source": [
        "tabela_aluno_graduacao.plot.hist(\n",
        "    xticks = range (1,7),\n",
        "    xlabel = 'Mês',\n",
        "    bins = 6,\n",
        "    color = 'purple',\n",
        "    title = 'Aluno de Graduação')"
      ],
      "execution_count": null,
      "outputs": [
        {
          "output_type": "execute_result",
          "data": {
            "text/plain": [
              "<matplotlib.axes._subplots.AxesSubplot at 0x7f1219fefb90>"
            ]
          },
          "metadata": {},
          "execution_count": 229
        },
        {
          "output_type": "display_data",
          "data": {
            "image/png": "[encoded data removed]",
            "text/plain": [
              "<Figure size 432x288 with 1 Axes>"
            ]
          },
          "metadata": {
            "needs_background": "light"
          }
        }
      ]
    },
    {
      "cell_type": "code",
      "metadata": {
        "colab": {
          "base_uri": "https://localhost:8080/",
          "height": 298
        },
        "id": "-J5djMEvqowS",
        "outputId": "12dbf79c-8cbe-4668-9ffb-99e109029520"
      },
      "source": [
        "tabela_aluno_pos.plot.hist(\n",
        "    xticks = range (1,7),\n",
        "    bins = 6,\n",
        "    color = 'purple',\n",
        "    title = 'Aluno de Pós Graduação')"
      ],
      "execution_count": null,
      "outputs": [
        {
          "output_type": "execute_result",
          "data": {
            "text/plain": [
              "<matplotlib.axes._subplots.AxesSubplot at 0x7f12192f8fd0>"
            ]
          },
          "metadata": {},
          "execution_count": 241
        },
        {
          "output_type": "display_data",
          "data": {
            "image/png": "[encoded data removed]",
            "text/plain": [
              "<Figure size 432x288 with 1 Axes>"
            ]
          },
          "metadata": {
            "needs_background": "light"
          }
        }
      ]
    },
    {
      "cell_type": "code",
      "metadata": {
        "colab": {
          "base_uri": "https://localhost:8080/",
          "height": 298
        },
        "id": "1h4_U64Eqa4R",
        "outputId": "15e94f51-b00b-417e-cdf4-5e7135f1f9c4"
      },
      "source": [
        "tabela_docente.plot.hist(\n",
        "    xticks = range (1,7),\n",
        "    bins = 6,\n",
        "    color = 'purple',\n",
        "    title = 'Docente')"
      ],
      "execution_count": null,
      "outputs": [
        {
          "output_type": "execute_result",
          "data": {
            "text/plain": [
              "<matplotlib.axes._subplots.AxesSubplot at 0x7f121928d950>"
            ]
          },
          "metadata": {},
          "execution_count": 242
        },
        {
          "output_type": "display_data",
          "data": {
            "image/png": "[encoded data removed]",
            "text/plain": [
              "<Figure size 432x288 with 1 Axes>"
            ]
          },
          "metadata": {
            "needs_background": "light"
          }
        }
      ]
    },
    {
      "cell_type": "code",
      "metadata": {
        "colab": {
          "base_uri": "https://localhost:8080/",
          "height": 298
        },
        "id": "yisDEVd1qQkf",
        "outputId": "ff7d7e29-b64f-4167-c56f-5d588d222059"
      },
      "source": [
        "tabela_docente_externo.plot.hist(\n",
        "    xticks = range (1,7),\n",
        "    bins = 6,\n",
        "    color = 'purple',\n",
        "    title = 'Docente Externo'\n",
        ")"
      ],
      "execution_count": null,
      "outputs": [
        {
          "output_type": "execute_result",
          "data": {
            "text/plain": [
              "<matplotlib.axes._subplots.AxesSubplot at 0x7f12191a9f10>"
            ]
          },
          "metadata": {},
          "execution_count": 243
        },
        {
          "output_type": "display_data",
          "data": {
            "image/png": "[encoded data removed]",
            "text/plain": [
              "<Figure size 432x288 with 1 Axes>"
            ]
          },
          "metadata": {
            "needs_background": "light"
          }
        }
      ]
    },
    {
      "cell_type": "code",
      "metadata": {
        "colab": {
          "base_uri": "https://localhost:8080/",
          "height": 298
        },
        "id": "096TUE6-qFG9",
        "outputId": "54de2e94-db7a-442b-f505-0c7b93e71448"
      },
      "source": [
        "tabela_servidor_TA.plot.hist(\n",
        "    xticks = range (1,7),\n",
        "    bins = 6,\n",
        "    color = 'purple',\n",
        "    title = 'Servidor Técnico Administrativo'\n",
        ")"
      ],
      "execution_count": null,
      "outputs": [
        {
          "output_type": "execute_result",
          "data": {
            "text/plain": [
              "<matplotlib.axes._subplots.AxesSubplot at 0x7f121918fb90>"
            ]
          },
          "metadata": {},
          "execution_count": 244
        },
        {
          "output_type": "display_data",
          "data": {
            "image/png": "[encoded data removed]",
            "text/plain": [
              "<Figure size 432x288 with 1 Axes>"
            ]
          },
          "metadata": {
            "needs_background": "light"
          }
        }
      ]
    },
    {
      "cell_type": "code",
      "metadata": {
        "colab": {
          "base_uri": "https://localhost:8080/",
          "height": 298
        },
        "id": "IubwxHClprn6",
        "outputId": "8bbd5087-a5f2-4407-f700-217ca1f7b602"
      },
      "source": [
        "tabela_aluno_mediotec.plot.hist(\n",
        "    xticks = range (1,7),\n",
        "    bins = 6,\n",
        "    color = 'purple',\n",
        "    title = 'Aluno Médio Técnico'\n",
        ")"
      ],
      "execution_count": null,
      "outputs": [
        {
          "output_type": "execute_result",
          "data": {
            "text/plain": [
              "<matplotlib.axes._subplots.AxesSubplot at 0x7f12190a7dd0>"
            ]
          },
          "metadata": {},
          "execution_count": 245
        },
        {
          "output_type": "display_data",
          "data": {
            "image/png": "[encoded data removed]",
            "text/plain": [
              "<Figure size 432x288 with 1 Axes>"
            ]
          },
          "metadata": {
            "needs_background": "light"
          }
        }
      ]
    },
    {
      "cell_type": "code",
      "metadata": {
        "colab": {
          "base_uri": "https://localhost:8080/",
          "height": 298
        },
        "id": "jTqH4IyEYbqv",
        "outputId": "d21e1c04-151a-4378-c3e0-ed9810901fd3"
      },
      "source": [
        "#Usuarios externos\n",
        "tabela_usuarioext.plot.hist(\n",
        "    xticks = range (1,7),\n",
        "    bins = 5,\n",
        "    color = 'purple',\n",
        "    title = 'Usuário Externo'\n",
        ")"
      ],
      "execution_count": null,
      "outputs": [
        {
          "output_type": "execute_result",
          "data": {
            "text/plain": [
              "<matplotlib.axes._subplots.AxesSubplot at 0x7f121901ec90>"
            ]
          },
          "metadata": {},
          "execution_count": 246
        },
        {
          "output_type": "display_data",
          "data": {
            "image/png": "[encoded data removed]",
            "text/plain": [
              "<Figure size 432x288 with 1 Axes>"
            ]
          },
          "metadata": {
            "needs_background": "light"
          }
        }
      ]
    }
  ]
}