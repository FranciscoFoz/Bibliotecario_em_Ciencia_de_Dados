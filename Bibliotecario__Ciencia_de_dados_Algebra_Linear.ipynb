{
  "nbformat": 4,
  "nbformat_minor": 0,
  "metadata": {
    "colab": {
      "name": "Bibliotecario_ Ciencia_de_dados_Algebra_Linear.ipynb",
      "provenance": [],
      "authorship_tag": "ABX9TyOWAaA6yDwyjIn4EFkRJ5MO",
      "include_colab_link": true
    },
    "kernelspec": {
      "name": "python3",
      "display_name": "Python 3"
    },
    "language_info": {
      "name": "python"
    }
  },
  "cells": [
    {
      "cell_type": "markdown",
      "metadata": {
        "id": "view-in-github",
        "colab_type": "text"
      },
      "source": [
        "<a href=\"https://colab.research.google.com/github/FranciscoFoz/Bibliotecario_em_Ciencia_de_Dados/blob/main/Bibliotecario__Ciencia_de_dados_Algebra_Linear.ipynb\" target=\"_parent\"><img src=\"https://colab.research.google.com/assets/colab-badge.svg\" alt=\"Open In Colab\"/></a>"
      ]
    },
    {
      "cell_type": "markdown",
      "metadata": {
        "id": "DSVhTSROS9E5"
      },
      "source": [
        "# <font color = white> Vetores"
      ]
    },
    {
      "cell_type": "markdown",
      "metadata": {
        "id": "0l8H-kqITOJ_"
      },
      "source": [
        "Este notebook faz parte de um projeto iniciado por mim, Francisco Foz, integrante do time Alura Stars. Com o objetivo de auxiliar na disseminação da informação em Ciência de Dados para a área da biblioteconomia. Utilizando do livro \"Data Science do zero\" de Joel Grus.\n",
        "Abordarei alguns conceitos básicos de algebra linear para data science.\n"
      ]
    },
    {
      "cell_type": "code",
      "metadata": {
        "id": "xdS-1zhLwtJ9"
      },
      "source": [
        "import numpy as np\n"
      ],
      "execution_count": null,
      "outputs": []
    },
    {
      "cell_type": "code",
      "metadata": {
        "id": "sB9uFmuRSOg-"
      },
      "source": [
        "PX = np.array([10, 3])\n",
        "P1 = np.array([2, 3])\n",
        "P2 = np.array([3, 1])\n",
        "P3 = np.array([12, 5])\n",
        "P4 = np.array([18, 2])"
      ],
      "execution_count": null,
      "outputs": []
    },
    {
      "cell_type": "code",
      "metadata": {
        "colab": {
          "base_uri": "https://localhost:8080/"
        },
        "id": "i8Z92msZIZHI",
        "outputId": "69472dd4-4cba-41dc-b336-04111ae846f2"
      },
      "source": [
        "np.linalg.norm(PX - P4)"
      ],
      "execution_count": null,
      "outputs": [
        {
          "output_type": "execute_result",
          "data": {
            "text/plain": [
              "8.06225774829855"
            ]
          },
          "metadata": {},
          "execution_count": 7
        }
      ]
    },
    {
      "cell_type": "code",
      "metadata": {
        "id": "yXBL-MjSKdR-"
      },
      "source": [
        "dist_P1 = np.linalg.norm(PX - P1)\n",
        "dist_P2 = np.linalg.norm(PX - P2)\n",
        "dist_P3 = np.linalg.norm(PX - P3)\n",
        "dist_P4 = np.linalg.norm(PX - P4)"
      ],
      "execution_count": null,
      "outputs": []
    },
    {
      "cell_type": "code",
      "metadata": {
        "colab": {
          "base_uri": "https://localhost:8080/"
        },
        "id": "W5vXAQqDkatQ",
        "outputId": "50ffb694-bfc6-450a-b225-8e111919d0cb"
      },
      "source": [
        "valores = np.array([dist_P1, dist_P2, dist_P3, dist_P4])\n",
        "chaves = np.array(['P1','P2','P3','P4'])\n",
        "\n",
        "Distancias = sorted(list(zip(valores,chaves)))\n",
        "Distancias"
      ],
      "execution_count": null,
      "outputs": [
        {
          "output_type": "execute_result",
          "data": {
            "text/plain": [
              "[(2.8284271247461903, 'P3'),\n",
              " (7.280109889280518, 'P2'),\n",
              " (8.0, 'P1'),\n",
              " (8.06225774829855, 'P4')]"
            ]
          },
          "metadata": {},
          "execution_count": 160
        }
      ]
    },
    {
      "cell_type": "markdown",
      "metadata": {
        "id": "pCMd967OzLdD"
      },
      "source": [
        "## Operações com Vetores"
      ]
    },
    {
      "cell_type": "code",
      "metadata": {
        "colab": {
          "base_uri": "https://localhost:8080/"
        },
        "id": "ISUgXspx14j3",
        "outputId": "ca15063d-b772-4e9f-9ee4-a6aafc93a552"
      },
      "source": [
        "B = [50,120]\n",
        "M = [100,150]\n",
        "B + M"
      ],
      "execution_count": null,
      "outputs": [
        {
          "output_type": "execute_result",
          "data": {
            "text/plain": [
              "[50, 120, 100, 150]"
            ]
          },
          "metadata": {},
          "execution_count": 185
        }
      ]
    },
    {
      "cell_type": "markdown",
      "metadata": {
        "id": "KL9G7Z2u_VY7"
      },
      "source": [
        "Adição"
      ]
    },
    {
      "cell_type": "code",
      "metadata": {
        "colab": {
          "base_uri": "https://localhost:8080/"
        },
        "id": "uagLcbwtqhFd",
        "outputId": "729f107d-0e1c-48a0-ba8e-feb4a7ab13f4"
      },
      "source": [
        "biblioteconomia = np.array([[50,120]])\n",
        "matematica = np.array([[100,150]])\n",
        "total = biblioteconomia + matematica\n",
        "total"
      ],
      "execution_count": null,
      "outputs": [
        {
          "output_type": "execute_result",
          "data": {
            "text/plain": [
              "array([[150, 270]])"
            ]
          },
          "metadata": {},
          "execution_count": 188
        }
      ]
    },
    {
      "cell_type": "markdown",
      "metadata": {
        "id": "Ntfrs0h5_Qxe"
      },
      "source": [
        "Subtração"
      ]
    },
    {
      "cell_type": "code",
      "metadata": {
        "colab": {
          "base_uri": "https://localhost:8080/"
        },
        "id": "ER-kgVAh1lqg",
        "outputId": "e43e5f83-b6cf-439a-dfb3-9c474d646e6f"
      },
      "source": [
        "Total = np.array([[10220,12250]])\n",
        "medicina = np.array([[1020,9250]])\n",
        "total = Total - medicina\n",
        "total"
      ],
      "execution_count": null,
      "outputs": [
        {
          "output_type": "execute_result",
          "data": {
            "text/plain": [
              "array([[9200, 3000]])"
            ]
          },
          "metadata": {},
          "execution_count": 189
        }
      ]
    },
    {
      "cell_type": "markdown",
      "metadata": {
        "id": "h2cZB0BE_Xc7"
      },
      "source": [
        "Soma Escalar"
      ]
    },
    {
      "cell_type": "code",
      "metadata": {
        "colab": {
          "base_uri": "https://localhost:8080/"
        },
        "id": "iElmJNdq44Mi",
        "outputId": "73ee9cb0-a033-445e-8db2-dd32b69003bd"
      },
      "source": [
        "filosofia = np.array([250,233])\n",
        "filosofia = filosofia + 2\n",
        "filosofia"
      ],
      "execution_count": null,
      "outputs": [
        {
          "output_type": "execute_result",
          "data": {
            "text/plain": [
              "array([252, 235])"
            ]
          },
          "metadata": {},
          "execution_count": 192
        }
      ]
    },
    {
      "cell_type": "markdown",
      "metadata": {
        "id": "mfGop3uOA__Z"
      },
      "source": [
        "Multiplicação\n"
      ]
    },
    {
      "cell_type": "code",
      "metadata": {
        "colab": {
          "base_uri": "https://localhost:8080/"
        },
        "id": "jdsPfjjcAJqL",
        "outputId": "85a6d8c0-607f-40b1-9fb2-bbd4f1a145af"
      },
      "source": [
        "quantidade_exemplares = np.array([10,20,15,2,23])\n",
        "quantidade_emprestimos_titulo = np.array([2,10,3,5,4])\n",
        "total_emprestimos = quantidade_exemplares * quantidade_emprestimos_titulo\n",
        "total_emprestimos"
      ],
      "execution_count": null,
      "outputs": [
        {
          "output_type": "execute_result",
          "data": {
            "text/plain": [
              "array([ 20, 200,  45,  10,  92])"
            ]
          },
          "metadata": {},
          "execution_count": 193
        }
      ]
    },
    {
      "cell_type": "markdown",
      "metadata": {
        "id": "al0REelbB5vI"
      },
      "source": [
        "Multiplicação Escalar"
      ]
    },
    {
      "cell_type": "code",
      "metadata": {
        "colab": {
          "base_uri": "https://localhost:8080/"
        },
        "id": "3fOms6GDBvJQ",
        "outputId": "f151ea31-a4dd-4030-b2ed-061065a0368d"
      },
      "source": [
        "emprestimos_2021_cursos = np.array([200,350,169,1120,568,970])\n",
        "projecao_emprestimos_2022 = emprestimos_2021_cursos + (emprestimos_2021_cursos * 0.1)\n",
        "projecao_emprestimos_2022"
      ],
      "execution_count": null,
      "outputs": [
        {
          "output_type": "execute_result",
          "data": {
            "text/plain": [
              "array([ 220. ,  385. ,  185.9, 1232. ,  624.8, 1067. ])"
            ]
          },
          "metadata": {},
          "execution_count": 197
        }
      ]
    },
    {
      "cell_type": "markdown",
      "metadata": {
        "id": "M8jAbYvBDFyX"
      },
      "source": [
        "Testes condicionais\n"
      ]
    },
    {
      "cell_type": "code",
      "metadata": {
        "colab": {
          "base_uri": "https://localhost:8080/"
        },
        "id": "fcBXhL2kC7Cu",
        "outputId": "3ce49195-fddb-499b-912d-0ae32b63b3bc"
      },
      "source": [
        "outliers = projecao_emprestimos_2022 > 1000\n",
        "outliers"
      ],
      "execution_count": null,
      "outputs": [
        {
          "output_type": "execute_result",
          "data": {
            "text/plain": [
              "array([False, False, False,  True, False,  True])"
            ]
          },
          "metadata": {},
          "execution_count": 198
        }
      ]
    },
    {
      "cell_type": "markdown",
      "metadata": {
        "id": "jCnmMOzENTnM"
      },
      "source": [
        "##Matrizes\n"
      ]
    },
    {
      "cell_type": "code",
      "metadata": {
        "id": "lNo-4-SoVEPN"
      },
      "source": [
        "                #Acessos  #Emprestimos\n",
        "biblioteconomia = [10220, 95860]\n",
        "ciencias_socias = [7220,  7086]\n",
        "filosofia       = [6523,  6086]\n",
        "historia        = [10130, 9860]\n",
        "pedagogia       = [12356, 11284]\n",
        "arquivologia    = [15423, 9764]"
      ],
      "execution_count": null,
      "outputs": []
    },
    {
      "cell_type": "code",
      "metadata": {
        "id": "q8EnpzrxD5-U",
        "colab": {
          "base_uri": "https://localhost:8080/"
        },
        "outputId": "f9aa52f2-5b0b-4065-a047-6e1a6142e77b"
      },
      "source": [
        "E_2020 = np.matrix([biblioteconomia, ciencias_socias , filosofia , historia , pedagogia , arquivologia])\n",
        "E_2020"
      ],
      "execution_count": null,
      "outputs": [
        {
          "output_type": "execute_result",
          "data": {
            "text/plain": [
              "matrix([[10220, 95860],\n",
              "        [ 7220,  7086],\n",
              "        [ 6523,  6086],\n",
              "        [10130,  9860],\n",
              "        [12356, 11284],\n",
              "        [15423,  9764]])"
            ]
          },
          "metadata": {},
          "execution_count": 77
        }
      ]
    },
    {
      "cell_type": "code",
      "metadata": {
        "id": "06GfWSmevFxA",
        "colab": {
          "base_uri": "https://localhost:8080/"
        },
        "outputId": "ee1c1d30-16aa-4435-9f01-160ba7cadb89"
      },
      "source": [
        "np.shape(E_2020)"
      ],
      "execution_count": null,
      "outputs": [
        {
          "output_type": "execute_result",
          "data": {
            "text/plain": [
              "(6, 2)"
            ]
          },
          "metadata": {},
          "execution_count": 83
        }
      ]
    },
    {
      "cell_type": "code",
      "metadata": {
        "id": "bfd96V_jY7dd"
      },
      "source": [
        "biblioteconomia = [2000, 201]\n",
        "ciencias_socias = [550, 365]\n",
        "filosofia       = [856,  423]\n",
        "historia        = [412, 120]\n",
        "pedagogia       = [980, 652]\n",
        "arquivologia    = [2541, 98]"
      ],
      "execution_count": 87,
      "outputs": []
    },
    {
      "cell_type": "code",
      "metadata": {
        "colab": {
          "base_uri": "https://localhost:8080/"
        },
        "id": "vDGdnc72tVMV",
        "outputId": "f6767188-33bd-4839-a167-3132e3ed96ae"
      },
      "source": [
        "E_2021 = np.matrix([biblioteconomia, ciencias_socias , filosofia , historia , pedagogia , arquivologia])\n",
        "E_2021"
      ],
      "execution_count": 88,
      "outputs": [
        {
          "output_type": "execute_result",
          "data": {
            "text/plain": [
              "matrix([[2000,  201],\n",
              "        [ 550,  365],\n",
              "        [ 856,  423],\n",
              "        [ 412,  120],\n",
              "        [ 980,  652],\n",
              "        [2541,   98]])"
            ]
          },
          "metadata": {},
          "execution_count": 88
        }
      ]
    },
    {
      "cell_type": "code",
      "metadata": {
        "colab": {
          "base_uri": "https://localhost:8080/"
        },
        "id": "grqdb5kOtZxz",
        "outputId": "175c4071-0698-411d-ea34-6419cad721f1"
      },
      "source": [
        "E_2020"
      ],
      "execution_count": null,
      "outputs": [
        {
          "output_type": "execute_result",
          "data": {
            "text/plain": [
              "matrix([[10220, 95860],\n",
              "        [ 7220,  7086],\n",
              "        [ 6523,  6086],\n",
              "        [10130,  9860],\n",
              "        [12356, 11284],\n",
              "        [15423,  9764]])"
            ]
          },
          "metadata": {},
          "execution_count": 81
        }
      ]
    },
    {
      "cell_type": "markdown",
      "metadata": {
        "id": "EAUs5GgPw9fr"
      },
      "source": [
        "Soma"
      ]
    },
    {
      "cell_type": "code",
      "metadata": {
        "id": "obp4lSILtbvM",
        "colab": {
          "base_uri": "https://localhost:8080/"
        },
        "outputId": "904dce20-3fa9-4f02-9b35-ad0baa247682"
      },
      "source": [
        "E_2020 + E_2021"
      ],
      "execution_count": 89,
      "outputs": [
        {
          "output_type": "execute_result",
          "data": {
            "text/plain": [
              "matrix([[12220, 96061],\n",
              "        [ 7770,  7451],\n",
              "        [ 7379,  6509],\n",
              "        [10542,  9980],\n",
              "        [13336, 11936],\n",
              "        [17964,  9862]])"
            ]
          },
          "metadata": {},
          "execution_count": 89
        }
      ]
    },
    {
      "cell_type": "markdown",
      "metadata": {
        "id": "3VbB2bPxxjLi"
      },
      "source": [
        "Subtração"
      ]
    },
    {
      "cell_type": "code",
      "metadata": {
        "colab": {
          "base_uri": "https://localhost:8080/"
        },
        "id": "EYkFGDcrxDU1",
        "outputId": "977b853d-9af1-4f6d-f53e-acee867994a0"
      },
      "source": [
        "E_2021 - E_2020"
      ],
      "execution_count": 90,
      "outputs": [
        {
          "output_type": "execute_result",
          "data": {
            "text/plain": [
              "matrix([[ -8220, -95659],\n",
              "        [ -6670,  -6721],\n",
              "        [ -5667,  -5663],\n",
              "        [ -9718,  -9740],\n",
              "        [-11376, -10632],\n",
              "        [-12882,  -9666]])"
            ]
          },
          "metadata": {},
          "execution_count": 90
        }
      ]
    },
    {
      "cell_type": "markdown",
      "metadata": {
        "id": "VIWqgDSixxEQ"
      },
      "source": [
        "Transposição"
      ]
    },
    {
      "cell_type": "code",
      "metadata": {
        "colab": {
          "base_uri": "https://localhost:8080/"
        },
        "id": "m2lRbeohxtMr",
        "outputId": "cee8c23a-b8f2-4e1f-dbb5-91822a16a5b5"
      },
      "source": [
        "E_2020.getT()"
      ],
      "execution_count": 94,
      "outputs": [
        {
          "output_type": "execute_result",
          "data": {
            "text/plain": [
              "matrix([[10220,  7220,  6523, 10130, 12356, 15423],\n",
              "        [95860,  7086,  6086,  9860, 11284,  9764]])"
            ]
          },
          "metadata": {},
          "execution_count": 94
        }
      ]
    },
    {
      "cell_type": "code",
      "metadata": {
        "colab": {
          "base_uri": "https://localhost:8080/"
        },
        "id": "FKtyB3kAx7AC",
        "outputId": "5cfa0d82-d0cb-4ac1-ded8-8497bad93ad9"
      },
      "source": [
        "E_2020 * 0.2"
      ],
      "execution_count": 93,
      "outputs": [
        {
          "output_type": "execute_result",
          "data": {
            "text/plain": [
              "matrix([[ 2044. , 19172. ],\n",
              "        [ 1444. ,  1417.2],\n",
              "        [ 1304.6,  1217.2],\n",
              "        [ 2026. ,  1972. ],\n",
              "        [ 2471.2,  2256.8],\n",
              "        [ 3084.6,  1952.8]])"
            ]
          },
          "metadata": {},
          "execution_count": 93
        }
      ]
    }
  ]
}